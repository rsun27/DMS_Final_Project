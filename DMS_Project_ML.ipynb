{
  "cells": [
    {
      "cell_type": "code",
      "execution_count": 1,
      "metadata": {
        "id": "zg8arqSt6-6d"
      },
      "outputs": [],
      "source": [
        "import numpy as np\n",
        "import pandas as pd\n",
        "from sklearn.model_selection import train_test_split\n",
        "from sklearn.metrics import accuracy_score, f1_score, confusion_matrix, roc_auc_score, roc_curve, classification_report\n",
        "from sklearn import metrics\n",
        "from sklearn.neighbors import KNeighborsClassifier\n",
        "from sklearn.svm import LinearSVC\n",
        "from sklearn.tree import DecisionTreeClassifier\n",
        "from sklearn.ensemble import RandomForestClassifier, GradientBoostingClassifier\n",
        "from sklearn.preprocessing import StandardScaler\n",
        "import matplotlib.pyplot as plt\n",
        "from tqdm import tqdm\n",
        "from sklearn.cluster import KMeans\n",
        "import matplotlib.pyplot as plt"
      ]
    },
    {
      "cell_type": "code",
      "source": [
        "!pip install --upgrade pymysql sqlalchemy"
      ],
      "metadata": {
        "colab": {
          "base_uri": "https://localhost:8080/"
        },
        "id": "sECTTgnB9uF6",
        "outputId": "4f864933-0304-4600-bd65-a38331b4987a"
      },
      "execution_count": 2,
      "outputs": [
        {
          "output_type": "stream",
          "name": "stdout",
          "text": [
            "Collecting pymysql\n",
            "  Downloading PyMySQL-1.1.0-py3-none-any.whl (44 kB)\n",
            "\u001b[2K     \u001b[90m━━━━━━━━━━━━━━━━━━━━━━━━━━━━━━━━━━━━━━━━\u001b[0m \u001b[32m44.8/44.8 kB\u001b[0m \u001b[31m364.2 kB/s\u001b[0m eta \u001b[36m0:00:00\u001b[0m\n",
            "\u001b[?25hRequirement already satisfied: sqlalchemy in /usr/local/lib/python3.10/dist-packages (2.0.23)\n",
            "Requirement already satisfied: typing-extensions>=4.2.0 in /usr/local/lib/python3.10/dist-packages (from sqlalchemy) (4.5.0)\n",
            "Requirement already satisfied: greenlet!=0.4.17 in /usr/local/lib/python3.10/dist-packages (from sqlalchemy) (3.0.2)\n",
            "Installing collected packages: pymysql\n",
            "Successfully installed pymysql-1.1.0\n"
          ]
        }
      ]
    },
    {
      "cell_type": "code",
      "source": [
        "import pandas as pd\n",
        "from sqlalchemy import create_engine\n",
        "import pymysql\n",
        "pymysql.install_as_MySQLdb()\n",
        "username = 'r****'\n",
        "password = '*******'\n",
        "host = '*****.mysql.database.azure.com'\n",
        "port = 3306\n",
        "dbname = 'onlineshoppingdb'\n",
        "\n",
        "conn_string = f'mysql+pymysql://{username}:{password}@{host}:{port}/{dbname}'\n",
        "engine = create_engine(conn_string, connect_args={'charset': 'utf8'})\n",
        "\n"
      ],
      "metadata": {
        "id": "uneg5_4_9AKq"
      },
      "execution_count": 3,
      "outputs": []
    },
    {
      "cell_type": "markdown",
      "metadata": {
        "id": "GQWetiEyOUGa"
      },
      "source": [
        "##Data Collection and Preprocessing"
      ]
    },
    {
      "cell_type": "code",
      "source": [
        "sql_queries = 'Select o.*, s.Shipment_id, s.Shipped_date, s.Estimated_arrival, s.Warehouse, s.Mode_of_shipment, s.Weight, c.Membership, c.Purchase_frequency, s.Reach_on_time from `ORDER` as o LEFT JOIN SHIPMENT as s on s.Order_id = o.Order_id LEFT JOIN CUSTOMER as c on c.Customer_id = o.Customer_id;'\n",
        "df = pd.read_sql(sql_queries, con = engine)"
      ],
      "metadata": {
        "id": "F93gN5ZOAI6i"
      },
      "execution_count": null,
      "outputs": []
    },
    {
      "cell_type": "markdown",
      "metadata": {
        "id": "G7LHNTvATN-G"
      },
      "source": [
        "There are not missing values in the dataset, so we don't have to impute or drop missing values."
      ]
    },
    {
      "cell_type": "code",
      "execution_count": null,
      "metadata": {
        "id": "XICSDL9rI7lb"
      },
      "outputs": [],
      "source": [
        "#Drop irrelavent feature ID\n",
        "df = df.drop(['Order_id', 'Customer_id', 'Date', 'Status', 'Shipped_date', 'Estimated_arrival'], axis=1)\n",
        "#One-hot encoding\n",
        "categorical_variables = ['Warehouse', 'Mode_of_Shipment', 'Membership']\n",
        "numerical_variables = ['Order_value', 'Discount', 'Number_of_itmes', 'Weight',\t'Purchase_frequency']\n",
        "data = pd.get_dummies(df, columns=categorical_variables)\n",
        "\n",
        "\n",
        "data"
      ]
    },
    {
      "cell_type": "code",
      "execution_count": null,
      "metadata": {
        "id": "MWw7oQLSfhLe"
      },
      "outputs": [],
      "source": [
        "#Split data to training and test sets\n",
        "target = data['Reach_on_time'].to_numpy()\n",
        "data = data.drop(['Reach_on_time'], axis=1)\n",
        "columns = data.columns\n",
        "drop_index = [columns.get_loc(c) for c in['Warehouse_A', 'Mode_of_Shipment_Flight', 'Membership_Bronze']]\n",
        "data = data.to_numpy()\n",
        "X_train, X_test, y_train, y_test = train_test_split(data, target, test_size=0.2, random_state=42)"
      ]
    },
    {
      "cell_type": "code",
      "execution_count": null,
      "metadata": {
        "id": "QSkUZ9zad_D2"
      },
      "outputs": [],
      "source": [
        "#Normalize data with z-score standardization\n",
        "scaler = StandardScaler()\n",
        "\n",
        "# Fit the scaler on the training data and standardize the first 5 numerical columns\n",
        "scaler.fit(X_train[:,:6])\n",
        "\n",
        "X_train_num = scaler.transform(X_train[:,:6])\n",
        "X_test_num = scaler.transform(X_test[:,:6])\n",
        "\n",
        "X_train = np.concatenate([X_train_num, X_train[:, 6:]], axis=1)\n",
        "X_test = np.concatenate([X_test_num, X_test[:, 6:]], axis=1)\n"
      ]
    },
    {
      "cell_type": "code",
      "execution_count": null,
      "metadata": {
        "colab": {
          "base_uri": "https://localhost:8080/"
        },
        "id": "iRbHkpjgqK3S",
        "outputId": "0afccd89-96ec-4b17-8e95-886865bc0062"
      },
      "outputs": [
        {
          "data": {
            "text/plain": [
              "array([-0.9256049813911437, 1.4220870453134193, -0.6701198555855346,\n",
              "       -0.37868020246479045, -0.39291127638365464, 0.31190126626315484,\n",
              "       False, False, False, False, True, False, False, True, False, True,\n",
              "       False, False], dtype=object)"
            ]
          },
          "execution_count": 14,
          "metadata": {},
          "output_type": "execute_result"
        }
      ],
      "source": [
        "X_train[0,:]"
      ]
    },
    {
      "cell_type": "code",
      "execution_count": null,
      "metadata": {
        "colab": {
          "base_uri": "https://localhost:8080/"
        },
        "id": "yhUKBRkYiJHU",
        "outputId": "37651376-bf06-4ffd-b1aa-77ab2d77cffb"
      },
      "outputs": [
        {
          "data": {
            "text/plain": [
              "array([[-0.92560498,  1.42208705, -0.67011986, -0.3786802 , -0.39291128,\n",
              "         0.31190127],\n",
              "       [ 1.69710806,  0.00394867, -0.17324572,  0.27363129, -0.63896845,\n",
              "         0.53260565],\n",
              "       [-1.79984266,  1.42208705,  1.37948593, -0.3786802 , -0.45442557,\n",
              "        -1.58517822],\n",
              "       ...,\n",
              "       [-0.0513673 , -0.70512051, -1.5189465 , -1.03099169, -0.70048274,\n",
              "         1.33227692],\n",
              "       [ 0.82287038,  0.00394867, -1.37402487,  1.57825427,  1.32948894,\n",
              "        -1.59923972],\n",
              "       [-0.0513673 ,  0.00394867, -1.1462909 , -0.3786802 , -0.70048274,\n",
              "         0.55583769]])"
            ]
          },
          "execution_count": 15,
          "metadata": {},
          "output_type": "execute_result"
        }
      ],
      "source": [
        "X_train_num"
      ]
    },
    {
      "cell_type": "markdown",
      "metadata": {
        "id": "S4S9gtmwM2bK"
      },
      "source": [
        "##Modeling"
      ]
    },
    {
      "cell_type": "code",
      "execution_count": null,
      "metadata": {
        "colab": {
          "base_uri": "https://localhost:8080/",
          "height": 53
        },
        "id": "iHdUzwtd--0W",
        "outputId": "4259ce64-ec1f-475f-8416-ecefc40b6bb1"
      },
      "outputs": [
        {
          "data": {
            "text/html": [
              "<div>\n",
              "<style scoped>\n",
              "    .dataframe tbody tr th:only-of-type {\n",
              "        vertical-align: middle;\n",
              "    }\n",
              "\n",
              "    .dataframe tbody tr th {\n",
              "        vertical-align: top;\n",
              "    }\n",
              "\n",
              "    .dataframe thead th {\n",
              "        text-align: right;\n",
              "    }\n",
              "</style>\n",
              "<table border=\"1\" class=\"dataframe\">\n",
              "  <thead>\n",
              "    <tr style=\"text-align: right;\">\n",
              "      <th></th>\n",
              "      <th>Accuracy</th>\n",
              "      <th>AUC</th>\n",
              "      <th>F1_Score</th>\n",
              "      <th>Precision</th>\n",
              "      <th>Recall</th>\n",
              "    </tr>\n",
              "  </thead>\n",
              "  <tbody>\n",
              "  </tbody>\n",
              "</table>\n",
              "</div>"
            ],
            "text/plain": [
              "Empty DataFrame\n",
              "Columns: [Accuracy, AUC, F1_Score, Precision, Recall]\n",
              "Index: []"
            ]
          },
          "execution_count": 16,
          "metadata": {},
          "output_type": "execute_result"
        }
      ],
      "source": [
        "models = []\n",
        "results = pd.DataFrame({\n",
        "    'Accuracy': [],\n",
        "    'AUC': [],\n",
        "    'F1_Score': [],\n",
        "    'Precision': [],\n",
        "    'Recall': []\n",
        "})\n",
        "results"
      ]
    },
    {
      "cell_type": "code",
      "execution_count": null,
      "metadata": {
        "id": "BGuEBZp-2DzH"
      },
      "outputs": [],
      "source": [
        "def metrics_evaluation(y_test, y_pred, model):\n",
        "    metrics_list = []\n",
        "    accuracy = metrics.accuracy_score(y_test, y_pred)\n",
        "    metrics_list.append(accuracy)\n",
        "\n",
        "    fpr, tpr, _ = metrics.roc_curve(y_true=y_test, y_score=y_pred)\n",
        "\n",
        "    auc_pred = metrics.auc(x=fpr, y=tpr)\n",
        "    metrics_list.append(auc_pred)\n",
        "\n",
        "    f1_pred = metrics.f1_score(y_test, y_pred)\n",
        "    metrics_list.append(f1_pred)\n",
        "\n",
        "    precision_pred = metrics.precision_score(y_test, y_pred)\n",
        "    metrics_list.append(precision_pred)\n",
        "\n",
        "    recall_pred = metrics.recall_score(y_test, y_pred)\n",
        "    metrics_list.append(recall_pred)\n",
        "\n",
        "    results.loc[model] = metrics_list\n",
        "    print(f'Accuracy is {np.round(accuracy,4)}')\n",
        "    print(f'AUC is {np.round(auc_pred,4)}')\n",
        "    print(f'F1 score is {np.round(f1_pred,4)}')\n",
        "    print(f'Precision is {np.round(precision_pred,4)}')\n",
        "    print(f'Recall is {np.round(recall_pred,4)}')"
      ]
    },
    {
      "cell_type": "markdown",
      "metadata": {
        "id": "Ym5CuxdGYEYT"
      },
      "source": [
        "**KNN**"
      ]
    },
    {
      "cell_type": "code",
      "execution_count": null,
      "metadata": {
        "id": "gP68BbScn6Pg"
      },
      "outputs": [],
      "source": [
        "knn = KNeighborsClassifier(4).fit(X_train, y_train)\n",
        "y_pred = knn.predict(X_test)"
      ]
    },
    {
      "cell_type": "code",
      "execution_count": null,
      "metadata": {
        "colab": {
          "base_uri": "https://localhost:8080/"
        },
        "id": "E6_0Enww5NEF",
        "outputId": "2d7e9db4-68ee-41f7-8f23-ff44998828b8"
      },
      "outputs": [
        {
          "data": {
            "text/plain": [
              "array([1, 0, 1, ..., 0, 0, 0], dtype=int64)"
            ]
          },
          "execution_count": 19,
          "metadata": {},
          "output_type": "execute_result"
        }
      ],
      "source": [
        "y_pred"
      ]
    },
    {
      "cell_type": "code",
      "execution_count": null,
      "metadata": {
        "colab": {
          "base_uri": "https://localhost:8080/"
        },
        "id": "TZWIqcq72Y6p",
        "outputId": "c02c88fb-188b-4f2e-8561-8002590c7e54"
      },
      "outputs": [
        {
          "name": "stdout",
          "output_type": "stream",
          "text": [
            "Accuracy is 0.6445\n",
            "AUC is 0.6635\n",
            "F1 score is 0.6521\n",
            "Precision is 0.7773\n",
            "Recall is 0.5617\n"
          ]
        }
      ],
      "source": [
        "metrics_evaluation(y_test, y_pred, 'KNN')"
      ]
    },
    {
      "cell_type": "markdown",
      "metadata": {
        "id": "4O30CxgrCDav"
      },
      "source": [
        "**Decision Tree**"
      ]
    },
    {
      "cell_type": "code",
      "execution_count": null,
      "metadata": {
        "id": "ad7WjqI0CFol"
      },
      "outputs": [],
      "source": [
        "decision_tree_model = DecisionTreeClassifier().fit(X_train, y_train)\n",
        "y_pred = decision_tree_model.predict(X_test)"
      ]
    },
    {
      "cell_type": "code",
      "execution_count": null,
      "metadata": {
        "id": "pvE-T2A4UN_X"
      },
      "outputs": [],
      "source": [
        "dt_importance = decision_tree_model.feature_importances_"
      ]
    },
    {
      "cell_type": "code",
      "execution_count": null,
      "metadata": {
        "colab": {
          "base_uri": "https://localhost:8080/"
        },
        "id": "3wNnks0eCGUM",
        "outputId": "3a6a64b4-8aa7-442a-82e5-5aa8b79f9261"
      },
      "outputs": [
        {
          "name": "stdout",
          "output_type": "stream",
          "text": [
            "Accuracy is 0.6459\n",
            "AUC is 0.6322\n",
            "F1 score is 0.7028\n",
            "Precision is 0.6998\n",
            "Recall is 0.7057\n"
          ]
        }
      ],
      "source": [
        "metrics_evaluation(y_test, y_pred, 'Decision Tree')"
      ]
    },
    {
      "cell_type": "markdown",
      "metadata": {
        "id": "zcD3cLF2CGsW"
      },
      "source": [
        "**Random Forest**"
      ]
    },
    {
      "cell_type": "code",
      "execution_count": null,
      "metadata": {
        "id": "tb7kaxATCKj7"
      },
      "outputs": [],
      "source": [
        "random_forest_model = RandomForestClassifier().fit(X_train, y_train)\n",
        "y_pred = random_forest_model.predict(X_test)"
      ]
    },
    {
      "cell_type": "code",
      "execution_count": null,
      "metadata": {
        "id": "ixC1GUekUWew"
      },
      "outputs": [],
      "source": [
        "rf_importance = random_forest_model.feature_importances_"
      ]
    },
    {
      "cell_type": "code",
      "execution_count": null,
      "metadata": {
        "colab": {
          "base_uri": "https://localhost:8080/"
        },
        "id": "QRnVm4RvCLMu",
        "outputId": "20fbdce8-98fe-4703-e164-3e699569c80b"
      },
      "outputs": [
        {
          "name": "stdout",
          "output_type": "stream",
          "text": [
            "Accuracy is 0.6595\n",
            "AUC is 0.6612\n",
            "F1 score is 0.6944\n",
            "Precision is 0.7426\n",
            "Recall is 0.6521\n"
          ]
        }
      ],
      "source": [
        "metrics_evaluation(y_test, y_pred, 'Random Forest')"
      ]
    },
    {
      "cell_type": "markdown",
      "metadata": {
        "id": "egp3Cz3dCL6P"
      },
      "source": [
        "**Gradient Boost**"
      ]
    },
    {
      "cell_type": "code",
      "execution_count": null,
      "metadata": {
        "id": "0gjqm1P0COvy"
      },
      "outputs": [],
      "source": [
        "gradient_boost_model = GradientBoostingClassifier().fit(X_train, y_train)\n",
        "y_pred = gradient_boost_model.predict(X_test)"
      ]
    },
    {
      "cell_type": "code",
      "execution_count": null,
      "metadata": {
        "id": "0ZuatI_fUhJ5"
      },
      "outputs": [],
      "source": [
        "gb_importance = gradient_boost_model.feature_importances_"
      ]
    },
    {
      "cell_type": "code",
      "execution_count": null,
      "metadata": {
        "colab": {
          "base_uri": "https://localhost:8080/"
        },
        "id": "tGSQIxLjCPVy",
        "outputId": "3c952532-25cd-42e0-d5f0-751662dcf82a"
      },
      "outputs": [
        {
          "name": "stdout",
          "output_type": "stream",
          "text": [
            "Accuracy is 0.6882\n",
            "AUC is 0.7159\n",
            "F1 score is 0.6833\n",
            "Precision is 0.8595\n",
            "Recall is 0.567\n"
          ]
        }
      ],
      "source": [
        "metrics_evaluation(y_test, y_pred, 'Gradient Boost')"
      ]
    },
    {
      "cell_type": "markdown",
      "metadata": {
        "id": "ueN-jAAv-BaF"
      },
      "source": [
        "##Hyperparameter Tuning"
      ]
    },
    {
      "cell_type": "code",
      "execution_count": null,
      "metadata": {
        "id": "zsbuH6f_D1AF"
      },
      "outputs": [],
      "source": [
        "from sklearn.model_selection import GridSearchCV"
      ]
    },
    {
      "cell_type": "markdown",
      "metadata": {
        "id": "DYSTe2tl-WFV"
      },
      "source": [
        "Decision Tree"
      ]
    },
    {
      "cell_type": "code",
      "execution_count": null,
      "metadata": {
        "colab": {
          "base_uri": "https://localhost:8080/"
        },
        "id": "CwFITq_Y-U21",
        "outputId": "6f2c5628-686a-491d-cadc-857f52a2a0f2"
      },
      "outputs": [
        {
          "name": "stdout",
          "output_type": "stream",
          "text": [
            "Best Parameters for Decision Tree: {'max_depth': 5, 'min_samples_split': 2}\n",
            "Best Accuracy for Decision Tree: 0.685\n"
          ]
        }
      ],
      "source": [
        "# Define the hyperparameters values\n",
        "max_depth_values = [3, 5, 10, None]\n",
        "min_samples_split_values = [2, 5, 10]\n",
        "\n",
        "best_accuracy_dt = 0\n",
        "best_params_dt = {}\n",
        "\n",
        "for max_depth in max_depth_values:\n",
        "    for min_samples_split in min_samples_split_values:\n",
        "        dt = DecisionTreeClassifier(max_depth=max_depth, min_samples_split=min_samples_split, random_state=42).fit(X_train, y_train)\n",
        "        y_pred = dt.predict(X_test)\n",
        "        accuracy = metrics.accuracy_score(y_test, y_pred)\n",
        "        fpr, tpr, _ = metrics.roc_curve(y_true=y_test, y_score=y_pred)\n",
        "        auc_pred = metrics.auc(x=fpr, y=tpr)\n",
        "        precision_pred = metrics.precision_score(y_test, y_pred)\n",
        "        recall_pred = metrics.recall_score(y_test, y_pred)\n",
        "        f1_pred = metrics.f1_score(y_test, y_pred)\n",
        "\n",
        "        if accuracy > best_accuracy_dt:\n",
        "            best_accuracy_dt = accuracy\n",
        "            best_pred = y_pred\n",
        "            best_params_dt = {'max_depth': max_depth, 'min_samples_split': min_samples_split}\n",
        "\n",
        "print(\"Best Parameters for Decision Tree:\", best_params_dt)\n",
        "print(\"Best Accuracy for Decision Tree:\", best_accuracy_dt)\n"
      ]
    },
    {
      "cell_type": "code",
      "execution_count": null,
      "metadata": {
        "colab": {
          "base_uri": "https://localhost:8080/"
        },
        "id": "ArKtM-SK-qaJ",
        "outputId": "ef1e8a19-5530-4977-c1ba-f89ea1dfd0bb"
      },
      "outputs": [
        {
          "name": "stdout",
          "output_type": "stream",
          "text": [
            "Accuracy is 0.685\n",
            "AUC is 0.7225\n",
            "F1 score is 0.6624\n",
            "Precision is 0.9091\n",
            "Recall is 0.5211\n"
          ]
        }
      ],
      "source": [
        "metrics_evaluation(y_test, best_pred, 'Decision Tree (Hyperparameter Tuning)')"
      ]
    },
    {
      "cell_type": "markdown",
      "metadata": {
        "id": "xqDCrvrg-qrT"
      },
      "source": [
        "Gradient Boost"
      ]
    },
    {
      "cell_type": "code",
      "execution_count": null,
      "metadata": {
        "colab": {
          "base_uri": "https://localhost:8080/"
        },
        "id": "gV1ROqZ7-teM",
        "outputId": "5cbc5af5-05e7-4721-8731-12dd855be383"
      },
      "outputs": [
        {
          "name": "stdout",
          "output_type": "stream",
          "text": [
            "Best Parameters for Gradient Boost: {'n_estimators': 300, 'learning_rate': 0.01}\n",
            "Best Accuracy for Gradient Boost: 0.6913636363636364\n"
          ]
        }
      ],
      "source": [
        "# Define the hyperparameters values\n",
        "n_estimators_values = [100, 200, 300]\n",
        "learning_rate_values = [0.01, 0.1, 0.2]\n",
        "\n",
        "best_accuracy_gb = 0\n",
        "best_params_gb = {}\n",
        "\n",
        "for n_estimators in n_estimators_values:\n",
        "    for learning_rate in learning_rate_values:\n",
        "        gb = GradientBoostingClassifier(n_estimators=n_estimators, learning_rate=learning_rate, random_state=42).fit(X_train, y_train)\n",
        "        y_pred = gb.predict(X_test)\n",
        "        accuracy = metrics.accuracy_score(y_test, y_pred)\n",
        "        fpr, tpr, _ = metrics.roc_curve(y_true=y_test, y_score=y_pred)\n",
        "        auc_pred = metrics.auc(x=fpr, y=tpr)\n",
        "        precision_pred = metrics.precision_score(y_test, y_pred)\n",
        "        recall_pred = metrics.recall_score(y_test, y_pred)\n",
        "        f1_pred = metrics.f1_score(y_test, y_pred)\n",
        "\n",
        "        if accuracy > best_accuracy_gb:\n",
        "            best_accuracy_gb = accuracy\n",
        "            best_pred = y_pred\n",
        "            best_params_gb = {'n_estimators': n_estimators, 'learning_rate': learning_rate}\n",
        "\n",
        "print(\"Best Parameters for Gradient Boost:\", best_params_gb)\n",
        "print(\"Best Accuracy for Gradient Boost:\", best_accuracy_gb)"
      ]
    },
    {
      "cell_type": "code",
      "execution_count": null,
      "metadata": {
        "colab": {
          "base_uri": "https://localhost:8080/"
        },
        "id": "QugxR4BV-uO4",
        "outputId": "e62d543a-eedb-4144-9294-beec9ee023e7"
      },
      "outputs": [
        {
          "name": "stdout",
          "output_type": "stream",
          "text": [
            "Accuracy is 0.6914\n",
            "AUC is 0.7316\n",
            "F1 score is 0.6647\n",
            "Precision is 0.9347\n",
            "Recall is 0.5157\n"
          ]
        }
      ],
      "source": [
        "metrics_evaluation(y_test, best_pred, 'Gradient Boost (Hyperparameter Tuning)')"
      ]
    },
    {
      "cell_type": "markdown",
      "metadata": {
        "id": "bGiaQcJPudMJ"
      },
      "source": [
        "SVM"
      ]
    },
    {
      "cell_type": "code",
      "execution_count": null,
      "metadata": {
        "id": "mV-JxE_1udMJ",
        "outputId": "fa8bdeee-55b1-4dc0-fcf1-10de3049e225"
      },
      "outputs": [
        {
          "name": "stdout",
          "output_type": "stream",
          "text": [
            "Accuracy for SVM: 0.6704545454545454\n",
            "AUC for SVM: 0.6827307947515999\n",
            "Precision for SVM: 0.7815533980582524\n",
            "Recall for SVM: 0.6168582375478927\n",
            "F1 score for SVM: 0.6895074946466809\n",
            "Accuracy is 0.6705\n",
            "AUC is 0.6827\n",
            "F1 score is 0.6895\n",
            "Precision is 0.7816\n",
            "Recall is 0.6169\n"
          ]
        }
      ],
      "source": [
        "from sklearn.svm import SVC\n",
        "svm = SVC(kernel='linear', random_state=42).fit(X_train, y_train)  # You can change the kernel as needed\n",
        "y_pred_svm = svm.predict(X_test)\n",
        "accuracy_svm = metrics.accuracy_score(y_test, y_pred_svm)\n",
        "fpr_svm, tpr_svm, _ = metrics.roc_curve(y_true=y_test, y_score=y_pred_svm)\n",
        "auc_svm = metrics.auc(x=fpr_svm, y=tpr_svm)\n",
        "precision_svm = metrics.precision_score(y_test, y_pred_svm)\n",
        "recall_svm = metrics.recall_score(y_test, y_pred_svm)\n",
        "f1_svm = metrics.f1_score(y_test, y_pred_svm)\n",
        "\n",
        "print(\"Accuracy for SVM:\", accuracy_svm)\n",
        "print(\"AUC for SVM:\", auc_svm)\n",
        "print(\"Precision for SVM:\", precision_svm)\n",
        "print(\"Recall for SVM:\", recall_svm)\n",
        "print(\"F1 score for SVM:\", f1_svm)\n",
        "metrics_evaluation(y_test, y_pred_svm, 'SVM')"
      ]
    },
    {
      "cell_type": "markdown",
      "metadata": {
        "id": "F1_fNFNHudMK"
      },
      "source": [
        "Logistic Regression"
      ]
    },
    {
      "cell_type": "code",
      "execution_count": null,
      "metadata": {
        "id": "mMNCdSy8udMK",
        "outputId": "a1199a7a-36ea-465c-a553-00afba5212d3"
      },
      "outputs": [
        {
          "name": "stdout",
          "output_type": "stream",
          "text": [
            "Accuracy for Logistic Regression: 0.644090909090909\n",
            "AUC for Logistic Regression: 0.6306706051071299\n",
            "Precision for Logistic Regression: 0.6989329268292683\n",
            "Recall for Logistic Regression: 0.7026819923371648\n",
            "F1 score for Logistic Regression: 0.7008024455483378\n",
            "Accuracy is 0.6441\n",
            "AUC is 0.6307\n",
            "F1 score is 0.7008\n",
            "Precision is 0.6989\n",
            "Recall is 0.7027\n"
          ]
        }
      ],
      "source": [
        "from sklearn.linear_model import LogisticRegression\n",
        "lr = LogisticRegression(random_state=42).fit(X_train, y_train)\n",
        "y_pred_lr = lr.predict(X_test)\n",
        "accuracy_lr = metrics.accuracy_score(y_test, y_pred_lr)\n",
        "fpr_lr, tpr_lr, _ = metrics.roc_curve(y_true=y_test, y_score=y_pred_lr)\n",
        "auc_lr = metrics.auc(x=fpr_lr, y=tpr_lr)\n",
        "precision_lr = metrics.precision_score(y_test, y_pred_lr)\n",
        "recall_lr = metrics.recall_score(y_test, y_pred_lr)\n",
        "f1_lr = metrics.f1_score(y_test, y_pred_lr)\n",
        "\n",
        "print(\"Accuracy for Logistic Regression:\", accuracy_lr)\n",
        "print(\"AUC for Logistic Regression:\", auc_lr)\n",
        "print(\"Precision for Logistic Regression:\", precision_lr)\n",
        "print(\"Recall for Logistic Regression:\", recall_lr)\n",
        "print(\"F1 score for Logistic Regression:\", f1_lr)\n",
        "metrics_evaluation(y_test, y_pred_lr, 'Logistic Regression')"
      ]
    },
    {
      "cell_type": "markdown",
      "metadata": {
        "id": "NWImLDW7udMK"
      },
      "source": [
        "Naive Bayes"
      ]
    },
    {
      "cell_type": "code",
      "execution_count": null,
      "metadata": {
        "id": "WIrfEqIZLPYZ",
        "outputId": "1922139e-2798-48a0-c75e-3ee0212a9efc"
      },
      "outputs": [
        {
          "name": "stdout",
          "output_type": "stream",
          "text": [
            "Accuracy for Naive Bayes: 0.6531818181818182\n",
            "AUC for Naive Bayes: 0.7022217941308675\n",
            "Precision for Naive Bayes: 0.9486754966887417\n",
            "Recall for Naive Bayes: 0.43908045977011495\n",
            "F1 score for Naive Bayes: 0.6003143006809849\n",
            "Accuracy is 0.6532\n",
            "AUC is 0.7022\n",
            "F1 score is 0.6003\n",
            "Precision is 0.9487\n",
            "Recall is 0.4391\n"
          ]
        }
      ],
      "source": [
        "from sklearn.naive_bayes import GaussianNB\n",
        "nb = GaussianNB().fit(X_train, y_train)\n",
        "y_pred_nb = nb.predict(X_test)\n",
        "accuracy_nb = metrics.accuracy_score(y_test, y_pred_nb)\n",
        "fpr_nb, tpr_nb, _ = metrics.roc_curve(y_true=y_test, y_score=y_pred_nb)\n",
        "auc_nb = metrics.auc(x=fpr_nb, y=tpr_nb)\n",
        "precision_nb = metrics.precision_score(y_test, y_pred_nb)\n",
        "recall_nb = metrics.recall_score(y_test, y_pred_nb)\n",
        "f1_nb = metrics.f1_score(y_test, y_pred_nb)\n",
        "\n",
        "print(\"Accuracy for Naive Bayes:\", accuracy_nb)\n",
        "print(\"AUC for Naive Bayes:\", auc_nb)\n",
        "print(\"Precision for Naive Bayes:\", precision_nb)\n",
        "print(\"Recall for Naive Bayes:\", recall_nb)\n",
        "print(\"F1 score for Naive Bayes:\", f1_nb)\n",
        "metrics_evaluation(y_test, y_pred_nb, 'Naive Bayes')"
      ]
    },
    {
      "cell_type": "markdown",
      "metadata": {
        "id": "Tlx65DNIudML"
      },
      "source": [
        "AdaBoost"
      ]
    },
    {
      "cell_type": "code",
      "execution_count": null,
      "metadata": {
        "id": "fqNRfhDTudMM",
        "outputId": "dff5149c-c192-4363-9ec9-3265c20e6a4e"
      },
      "outputs": [
        {
          "name": "stdout",
          "output_type": "stream",
          "text": [
            "Best Parameters for AdaBoost: {'n_estimators': 100}\n",
            "Best Accuracy for AdaBoost: 0.6859090909090909\n",
            "Accuracy is 0.6859\n",
            "AUC is 0.701\n",
            "F1 score is 0.7007\n",
            "Precision is 0.8058\n",
            "Recall is 0.6199\n"
          ]
        }
      ],
      "source": [
        "from sklearn.ensemble import AdaBoostClassifier\n",
        "best_accuracy_adaboost = 0\n",
        "best_params_adaboost = {}\n",
        "\n",
        "for n_estimators in [50, 100, 200]:\n",
        "    adaboost = AdaBoostClassifier(n_estimators=n_estimators, random_state=42).fit(X_train, y_train)\n",
        "    y_pred = adaboost.predict(X_test)\n",
        "    accuracy = metrics.accuracy_score(y_test, y_pred)\n",
        "    fpr, tpr, _ = metrics.roc_curve(y_true=y_test, y_score=y_pred)\n",
        "    auc_pred = metrics.auc(x=fpr, y=tpr)\n",
        "    precision_pred = metrics.precision_score(y_test, y_pred)\n",
        "    recall_pred = metrics.recall_score(y_test, y_pred)\n",
        "    f1_pred = metrics.f1_score(y_test, y_pred)\n",
        "\n",
        "    if accuracy > best_accuracy_adaboost:\n",
        "        best_accuracy_adaboost = accuracy\n",
        "        best_pred = y_pred\n",
        "        best_params_adaboost = {'n_estimators': n_estimators}\n",
        "\n",
        "print(\"Best Parameters for AdaBoost:\", best_params_adaboost)\n",
        "print(\"Best Accuracy for AdaBoost:\", best_accuracy_adaboost)\n",
        "metrics_evaluation(y_test, best_pred, 'AdaBoost (Hyperparameter Tuning)')\n"
      ]
    },
    {
      "cell_type": "markdown",
      "metadata": {
        "id": "Cs68W_N_udMM"
      },
      "source": [
        "Extra Trees"
      ]
    },
    {
      "cell_type": "code",
      "execution_count": null,
      "metadata": {
        "id": "ca9pg_QDudMM",
        "outputId": "6196c335-7aec-4263-85f0-e6670cfc896f"
      },
      "outputs": [
        {
          "name": "stdout",
          "output_type": "stream",
          "text": [
            "Best Parameters for Extra Trees: {'max_depth': 10, 'min_samples_split': 5}\n",
            "Best Accuracy for Extra Trees: 0.6663636363636364\n",
            "Accuracy is 0.6664\n",
            "AUC is 0.6654\n",
            "F1 score is 0.7045\n",
            "Precision is 0.7422\n",
            "Recall is 0.6705\n"
          ]
        }
      ],
      "source": [
        "from sklearn.ensemble import ExtraTreesClassifier\n",
        "best_accuracy_extra_trees = 0\n",
        "best_params_extra_trees = {}\n",
        "\n",
        "for max_depth in max_depth_values:\n",
        "    for min_samples_split in min_samples_split_values:\n",
        "        extra_trees = ExtraTreesClassifier(max_depth=max_depth, min_samples_split=min_samples_split, random_state=42).fit(X_train, y_train)\n",
        "        y_pred = extra_trees.predict(X_test)\n",
        "        accuracy = metrics.accuracy_score(y_test, y_pred)\n",
        "        fpr, tpr, _ = metrics.roc_curve(y_true=y_test, y_score=y_pred)\n",
        "        auc_pred = metrics.auc(x=fpr, y=tpr)\n",
        "        precision_pred = metrics.precision_score(y_test, y_pred)\n",
        "        recall_pred = metrics.recall_score(y_test, y_pred)\n",
        "        f1_pred = metrics.f1_score(y_test, y_pred)\n",
        "\n",
        "        if accuracy > best_accuracy_extra_trees:\n",
        "            best_accuracy_extra_trees = accuracy\n",
        "            best_pred = y_pred\n",
        "            best_params_extra_trees = {'max_depth': max_depth, 'min_samples_split': min_samples_split}\n",
        "\n",
        "print(\"Best Parameters for Extra Trees:\", best_params_extra_trees)\n",
        "print(\"Best Accuracy for Extra Trees:\", best_accuracy_extra_trees)\n",
        "metrics_evaluation(y_test, best_pred, 'Extra Trees (Hyperparameter Tuning)')"
      ]
    },
    {
      "cell_type": "markdown",
      "metadata": {
        "id": "AhzYqCIsudMM"
      },
      "source": [
        "BaggingClassifier"
      ]
    },
    {
      "cell_type": "code",
      "execution_count": null,
      "metadata": {
        "id": "t4T0Z89ZudMN",
        "outputId": "e0145f9c-be94-46df-ed3e-e0e0920f0fe0"
      },
      "outputs": [
        {
          "name": "stderr",
          "output_type": "stream",
          "text": [
            "c:\\Users\\Bloodhawk\\Anaconda3\\envs\\nlp\\lib\\site-packages\\sklearn\\ensemble\\_base.py:156: FutureWarning: `base_estimator` was renamed to `estimator` in version 1.2 and will be removed in 1.4.\n",
            "  warnings.warn(\n"
          ]
        },
        {
          "name": "stdout",
          "output_type": "stream",
          "text": [
            "Accuracy for Bagging Classifier: 0.6722727272727272\n",
            "AUC for Bagging Classifier: 0.6775936984952589\n",
            "Precision for Bagging Classifier: 0.763063063063063\n",
            "Recall for Bagging Classifier: 0.6490421455938697\n",
            "F1 score for Bagging Classifier: 0.7014492753623188\n",
            "Accuracy is 0.6723\n",
            "AUC is 0.6776\n",
            "F1 score is 0.7014\n",
            "Precision is 0.7631\n",
            "Recall is 0.649\n"
          ]
        }
      ],
      "source": [
        "from sklearn.ensemble import BaggingClassifier\n",
        "bagging = BaggingClassifier(base_estimator=DecisionTreeClassifier(), n_estimators=50, random_state=42).fit(X_train, y_train)\n",
        "y_pred_bagging = bagging.predict(X_test)\n",
        "accuracy_bagging = metrics.accuracy_score(y_test, y_pred_bagging)\n",
        "fpr_bagging, tpr_bagging, _ = metrics.roc_curve(y_true=y_test, y_score=y_pred_bagging)\n",
        "auc_bagging = metrics.auc(x=fpr_bagging, y=tpr_bagging)\n",
        "precision_bagging = metrics.precision_score(y_test, y_pred_bagging)\n",
        "recall_bagging = metrics.recall_score(y_test, y_pred_bagging)\n",
        "f1_bagging = metrics.f1_score(y_test, y_pred_bagging)\n",
        "\n",
        "print(\"Accuracy for Bagging Classifier:\", accuracy_bagging)\n",
        "print(\"AUC for Bagging Classifier:\", auc_bagging)\n",
        "print(\"Precision for Bagging Classifier:\", precision_bagging)\n",
        "print(\"Recall for Bagging Classifier:\", recall_bagging)\n",
        "print(\"F1 score for Bagging Classifier:\", f1_bagging)\n",
        "metrics_evaluation(y_test, y_pred_bagging, 'Bagging Classifier')"
      ]
    },
    {
      "cell_type": "markdown",
      "metadata": {
        "id": "Bv8-pgS6udMN"
      },
      "source": [
        "XGBoost"
      ]
    },
    {
      "cell_type": "code",
      "execution_count": null,
      "metadata": {
        "id": "6tqqAMsAudMO",
        "outputId": "4bb8b9d1-f293-4b99-cf0d-8a9593e8caac"
      },
      "outputs": [
        {
          "name": "stdout",
          "output_type": "stream",
          "text": [
            "Best Parameters for XGBoost: {'n_estimators': 50}\n",
            "Best Accuracy for XGBoost: 0.6613636363636364\n",
            "Accuracy is 0.6614\n",
            "AUC is 0.6644\n",
            "F1 score is 0.6943\n",
            "Precision is 0.7473\n",
            "Recall is 0.6483\n"
          ]
        }
      ],
      "source": [
        "from xgboost import XGBClassifier\n",
        "best_accuracy_xgb = 0\n",
        "best_params_xgb = {}\n",
        "\n",
        "for n_estimators in [50, 100, 200]:\n",
        "    xgb = XGBClassifier(n_estimators=n_estimators, random_state=42).fit(X_train, y_train)\n",
        "    y_pred = xgb.predict(X_test)\n",
        "    accuracy = metrics.accuracy_score(y_test, y_pred)\n",
        "    fpr, tpr, _ = metrics.roc_curve(y_true=y_test, y_score=y_pred)\n",
        "    auc_pred = metrics.auc(x=fpr, y=tpr)\n",
        "    precision_pred = metrics.precision_score(y_test, y_pred)\n",
        "    recall_pred = metrics.recall_score(y_test, y_pred)\n",
        "    f1_pred = metrics.f1_score(y_test, y_pred)\n",
        "\n",
        "    if accuracy > best_accuracy_xgb:\n",
        "        best_accuracy_xgb = accuracy\n",
        "        best_pred = y_pred\n",
        "        best_params_xgb = {'n_estimators': n_estimators}\n",
        "\n",
        "print(\"Best Parameters for XGBoost:\", best_params_xgb)\n",
        "print(\"Best Accuracy for XGBoost:\", best_accuracy_xgb)\n",
        "metrics_evaluation(y_test, best_pred, 'XGBoost (Hyperparameter Tuning)')"
      ]
    },
    {
      "cell_type": "markdown",
      "metadata": {
        "id": "tmxPuTebudMO"
      },
      "source": [
        "LightGBM"
      ]
    },
    {
      "cell_type": "code",
      "execution_count": null,
      "metadata": {
        "id": "ACoHxHOoudMO",
        "outputId": "31dda3dd-e009-43b4-f50c-81ef2c266183"
      },
      "outputs": [
        {
          "name": "stdout",
          "output_type": "stream",
          "text": [
            "[LightGBM] [Info] Number of positive: 5258, number of negative: 3541\n",
            "[LightGBM] [Info] Auto-choosing row-wise multi-threading, the overhead of testing was 0.000133 seconds.\n",
            "You can set `force_row_wise=true` to remove the overhead.\n",
            "And if memory is not enough, you can set `force_col_wise=true`.\n",
            "[LightGBM] [Info] Total Bins 582\n",
            "[LightGBM] [Info] Number of data points in the train set: 8799, number of used features: 18\n",
            "[LightGBM] [Info] [binary:BoostFromScore]: pavg=0.597568 -> initscore=0.395342\n",
            "[LightGBM] [Info] Start training from score 0.395342\n",
            "[LightGBM] [Info] Number of positive: 5258, number of negative: 3541\n",
            "[LightGBM] [Info] Auto-choosing col-wise multi-threading, the overhead of testing was 0.000306 seconds.\n",
            "You can set `force_col_wise=true` to remove the overhead.\n",
            "[LightGBM] [Info] Total Bins 582\n",
            "[LightGBM] [Info] Number of data points in the train set: 8799, number of used features: 18\n",
            "[LightGBM] [Info] [binary:BoostFromScore]: pavg=0.597568 -> initscore=0.395342\n",
            "[LightGBM] [Info] Start training from score 0.395342\n",
            "[LightGBM] [Info] Number of positive: 5258, number of negative: 3541\n",
            "[LightGBM] [Info] Auto-choosing row-wise multi-threading, the overhead of testing was 0.000085 seconds.\n",
            "You can set `force_row_wise=true` to remove the overhead.\n",
            "And if memory is not enough, you can set `force_col_wise=true`.\n",
            "[LightGBM] [Info] Total Bins 582\n",
            "[LightGBM] [Info] Number of data points in the train set: 8799, number of used features: 18\n",
            "[LightGBM] [Info] [binary:BoostFromScore]: pavg=0.597568 -> initscore=0.395342\n",
            "[LightGBM] [Info] Start training from score 0.395342\n",
            "Best Parameters for LightGBM: {'num_leaves': 31}\n",
            "Best Accuracy for LightGBM: 0.6668181818181819\n",
            "Accuracy is 0.6668\n",
            "AUC is 0.6791\n",
            "F1 score is 0.6858\n",
            "Precision is 0.7782\n",
            "Recall is 0.613\n"
          ]
        }
      ],
      "source": [
        "from lightgbm import LGBMClassifier\n",
        "best_accuracy_lgbm = 0\n",
        "best_params_lgbm = {}\n",
        "\n",
        "for num_leaves in [31, 63, 127]:\n",
        "    lgbm = LGBMClassifier(num_leaves=num_leaves, random_state=42).fit(X_train, y_train)\n",
        "    y_pred = lgbm.predict(X_test)\n",
        "    accuracy = metrics.accuracy_score(y_test, y_pred)\n",
        "    fpr, tpr, _ = metrics.roc_curve(y_true=y_test, y_score=y_pred)\n",
        "    auc_pred = metrics.auc(x=fpr, y=tpr)\n",
        "    precision_pred = metrics.precision_score(y_test, y_pred)\n",
        "    recall_pred = metrics.recall_score(y_test, y_pred)\n",
        "    f1_pred = metrics.f1_score(y_test, y_pred)\n",
        "\n",
        "    if accuracy > best_accuracy_lgbm:\n",
        "        best_accuracy_lgbm = accuracy\n",
        "        best_pred = y_pred\n",
        "        best_params_lgbm = {'num_leaves': num_leaves}\n",
        "\n",
        "print(\"Best Parameters for LightGBM:\", best_params_lgbm)\n",
        "print(\"Best Accuracy for LightGBM:\", best_accuracy_lgbm)\n",
        "metrics_evaluation(y_test, best_pred, 'LightGBM (Hyperparameter Tuning)')"
      ]
    },
    {
      "cell_type": "markdown",
      "metadata": {
        "id": "kVwJThPsLQP7"
      },
      "source": [
        "##Results"
      ]
    },
    {
      "cell_type": "code",
      "execution_count": null,
      "metadata": {
        "colab": {
          "base_uri": "https://localhost:8080/",
          "height": 237
        },
        "id": "Aii2oqBgSjxg",
        "outputId": "f7fc7c17-2ef4-4a44-fbd2-b536c98126a5"
      },
      "outputs": [
        {
          "data": {
            "text/html": [
              "<div>\n",
              "<style scoped>\n",
              "    .dataframe tbody tr th:only-of-type {\n",
              "        vertical-align: middle;\n",
              "    }\n",
              "\n",
              "    .dataframe tbody tr th {\n",
              "        vertical-align: top;\n",
              "    }\n",
              "\n",
              "    .dataframe thead th {\n",
              "        text-align: right;\n",
              "    }\n",
              "</style>\n",
              "<table border=\"1\" class=\"dataframe\">\n",
              "  <thead>\n",
              "    <tr style=\"text-align: right;\">\n",
              "      <th></th>\n",
              "      <th>Accuracy</th>\n",
              "      <th>AUC</th>\n",
              "      <th>F1_Score</th>\n",
              "      <th>Precision</th>\n",
              "      <th>Recall</th>\n",
              "    </tr>\n",
              "  </thead>\n",
              "  <tbody>\n",
              "    <tr>\n",
              "      <th>KNN</th>\n",
              "      <td>0.644545</td>\n",
              "      <td>0.663524</td>\n",
              "      <td>0.652135</td>\n",
              "      <td>0.777306</td>\n",
              "      <td>0.561686</td>\n",
              "    </tr>\n",
              "    <tr>\n",
              "      <th>Decision Tree</th>\n",
              "      <td>0.645909</td>\n",
              "      <td>0.632203</td>\n",
              "      <td>0.702785</td>\n",
              "      <td>0.699848</td>\n",
              "      <td>0.705747</td>\n",
              "    </tr>\n",
              "    <tr>\n",
              "      <th>Random Forest</th>\n",
              "      <td>0.659545</td>\n",
              "      <td>0.661249</td>\n",
              "      <td>0.694410</td>\n",
              "      <td>0.742583</td>\n",
              "      <td>0.652107</td>\n",
              "    </tr>\n",
              "    <tr>\n",
              "      <th>Gradient Boost</th>\n",
              "      <td>0.688182</td>\n",
              "      <td>0.715927</td>\n",
              "      <td>0.683287</td>\n",
              "      <td>0.859466</td>\n",
              "      <td>0.567050</td>\n",
              "    </tr>\n",
              "    <tr>\n",
              "      <th>Decision Tree (Hyperparameter Tuning)</th>\n",
              "      <td>0.685000</td>\n",
              "      <td>0.722548</td>\n",
              "      <td>0.662445</td>\n",
              "      <td>0.909091</td>\n",
              "      <td>0.521073</td>\n",
              "    </tr>\n",
              "    <tr>\n",
              "      <th>Gradient Boost (Hyperparameter Tuning)</th>\n",
              "      <td>0.691364</td>\n",
              "      <td>0.731597</td>\n",
              "      <td>0.664691</td>\n",
              "      <td>0.934722</td>\n",
              "      <td>0.515709</td>\n",
              "    </tr>\n",
              "    <tr>\n",
              "      <th>SVM</th>\n",
              "      <td>0.670455</td>\n",
              "      <td>0.682731</td>\n",
              "      <td>0.689507</td>\n",
              "      <td>0.781553</td>\n",
              "      <td>0.616858</td>\n",
              "    </tr>\n",
              "    <tr>\n",
              "      <th>Logistic Regression</th>\n",
              "      <td>0.644091</td>\n",
              "      <td>0.630671</td>\n",
              "      <td>0.700802</td>\n",
              "      <td>0.698933</td>\n",
              "      <td>0.702682</td>\n",
              "    </tr>\n",
              "    <tr>\n",
              "      <th>Naive Bayes</th>\n",
              "      <td>0.653182</td>\n",
              "      <td>0.702222</td>\n",
              "      <td>0.600314</td>\n",
              "      <td>0.948675</td>\n",
              "      <td>0.439080</td>\n",
              "    </tr>\n",
              "    <tr>\n",
              "      <th>AdaBoost (Hyperparameter Tuning)</th>\n",
              "      <td>0.685909</td>\n",
              "      <td>0.701023</td>\n",
              "      <td>0.700736</td>\n",
              "      <td>0.805777</td>\n",
              "      <td>0.619923</td>\n",
              "    </tr>\n",
              "    <tr>\n",
              "      <th>Extra Trees (Hyperparameter Tuning)</th>\n",
              "      <td>0.666364</td>\n",
              "      <td>0.665417</td>\n",
              "      <td>0.704509</td>\n",
              "      <td>0.742154</td>\n",
              "      <td>0.670498</td>\n",
              "    </tr>\n",
              "    <tr>\n",
              "      <th>Bagging Classifier</th>\n",
              "      <td>0.672273</td>\n",
              "      <td>0.677594</td>\n",
              "      <td>0.701449</td>\n",
              "      <td>0.763063</td>\n",
              "      <td>0.649042</td>\n",
              "    </tr>\n",
              "    <tr>\n",
              "      <th>XGBoost (Hyperparameter Tuning)</th>\n",
              "      <td>0.661364</td>\n",
              "      <td>0.664361</td>\n",
              "      <td>0.694296</td>\n",
              "      <td>0.747350</td>\n",
              "      <td>0.648276</td>\n",
              "    </tr>\n",
              "    <tr>\n",
              "      <th>LightGBM (Hyperparameter Tuning)</th>\n",
              "      <td>0.666818</td>\n",
              "      <td>0.679139</td>\n",
              "      <td>0.685812</td>\n",
              "      <td>0.778210</td>\n",
              "      <td>0.613027</td>\n",
              "    </tr>\n",
              "  </tbody>\n",
              "</table>\n",
              "</div>"
            ],
            "text/plain": [
              "                                        Accuracy       AUC  F1_Score   \n",
              "KNN                                     0.644545  0.663524  0.652135  \\\n",
              "Decision Tree                           0.645909  0.632203  0.702785   \n",
              "Random Forest                           0.659545  0.661249  0.694410   \n",
              "Gradient Boost                          0.688182  0.715927  0.683287   \n",
              "Decision Tree (Hyperparameter Tuning)   0.685000  0.722548  0.662445   \n",
              "Gradient Boost (Hyperparameter Tuning)  0.691364  0.731597  0.664691   \n",
              "SVM                                     0.670455  0.682731  0.689507   \n",
              "Logistic Regression                     0.644091  0.630671  0.700802   \n",
              "Naive Bayes                             0.653182  0.702222  0.600314   \n",
              "AdaBoost (Hyperparameter Tuning)        0.685909  0.701023  0.700736   \n",
              "Extra Trees (Hyperparameter Tuning)     0.666364  0.665417  0.704509   \n",
              "Bagging Classifier                      0.672273  0.677594  0.701449   \n",
              "XGBoost (Hyperparameter Tuning)         0.661364  0.664361  0.694296   \n",
              "LightGBM (Hyperparameter Tuning)        0.666818  0.679139  0.685812   \n",
              "\n",
              "                                        Precision    Recall  \n",
              "KNN                                      0.777306  0.561686  \n",
              "Decision Tree                            0.699848  0.705747  \n",
              "Random Forest                            0.742583  0.652107  \n",
              "Gradient Boost                           0.859466  0.567050  \n",
              "Decision Tree (Hyperparameter Tuning)    0.909091  0.521073  \n",
              "Gradient Boost (Hyperparameter Tuning)   0.934722  0.515709  \n",
              "SVM                                      0.781553  0.616858  \n",
              "Logistic Regression                      0.698933  0.702682  \n",
              "Naive Bayes                              0.948675  0.439080  \n",
              "AdaBoost (Hyperparameter Tuning)         0.805777  0.619923  \n",
              "Extra Trees (Hyperparameter Tuning)      0.742154  0.670498  \n",
              "Bagging Classifier                       0.763063  0.649042  \n",
              "XGBoost (Hyperparameter Tuning)          0.747350  0.648276  \n",
              "LightGBM (Hyperparameter Tuning)         0.778210  0.613027  "
            ]
          },
          "execution_count": 45,
          "metadata": {},
          "output_type": "execute_result"
        }
      ],
      "source": [
        "results"
      ]
    },
    {
      "cell_type": "code",
      "execution_count": null,
      "metadata": {
        "colab": {
          "base_uri": "https://localhost:8080/",
          "height": 613
        },
        "id": "P63k3CtkVPPm",
        "outputId": "85f6b0a9-1251-4299-883b-5fd82c7dc4a1"
      },
      "outputs": [
        {
          "data": {
            "text/html": [
              "<div>\n",
              "<style scoped>\n",
              "    .dataframe tbody tr th:only-of-type {\n",
              "        vertical-align: middle;\n",
              "    }\n",
              "\n",
              "    .dataframe tbody tr th {\n",
              "        vertical-align: top;\n",
              "    }\n",
              "\n",
              "    .dataframe thead th {\n",
              "        text-align: right;\n",
              "    }\n",
              "</style>\n",
              "<table border=\"1\" class=\"dataframe\">\n",
              "  <thead>\n",
              "    <tr style=\"text-align: right;\">\n",
              "      <th></th>\n",
              "      <th>Feature</th>\n",
              "      <th>Decision Tree</th>\n",
              "      <th>Random Forest</th>\n",
              "      <th>Gradient Boosting</th>\n",
              "    </tr>\n",
              "  </thead>\n",
              "  <tbody>\n",
              "    <tr>\n",
              "      <th>0</th>\n",
              "      <td>Customer_care_calls</td>\n",
              "      <td>0.044594</td>\n",
              "      <td>0.057341</td>\n",
              "      <td>0.008675</td>\n",
              "    </tr>\n",
              "    <tr>\n",
              "      <th>1</th>\n",
              "      <td>Customer_rating</td>\n",
              "      <td>0.045428</td>\n",
              "      <td>0.060723</td>\n",
              "      <td>0.004325</td>\n",
              "    </tr>\n",
              "    <tr>\n",
              "      <th>2</th>\n",
              "      <td>Cost_of_the_Product</td>\n",
              "      <td>0.169064</td>\n",
              "      <td>0.168789</td>\n",
              "      <td>0.044713</td>\n",
              "    </tr>\n",
              "    <tr>\n",
              "      <th>3</th>\n",
              "      <td>Prior_purchases</td>\n",
              "      <td>0.053691</td>\n",
              "      <td>0.063083</td>\n",
              "      <td>0.046151</td>\n",
              "    </tr>\n",
              "    <tr>\n",
              "      <th>4</th>\n",
              "      <td>Discount_offered</td>\n",
              "      <td>0.295698</td>\n",
              "      <td>0.209775</td>\n",
              "      <td>0.740991</td>\n",
              "    </tr>\n",
              "    <tr>\n",
              "      <th>5</th>\n",
              "      <td>Weight_in_gms</td>\n",
              "      <td>0.223145</td>\n",
              "      <td>0.278897</td>\n",
              "      <td>0.143182</td>\n",
              "    </tr>\n",
              "    <tr>\n",
              "      <th>6</th>\n",
              "      <td>Warehouse_block_A</td>\n",
              "      <td>0.019837</td>\n",
              "      <td>0.012047</td>\n",
              "      <td>0.000956</td>\n",
              "    </tr>\n",
              "    <tr>\n",
              "      <th>7</th>\n",
              "      <td>Warehouse_block_B</td>\n",
              "      <td>0.013398</td>\n",
              "      <td>0.012968</td>\n",
              "      <td>0.001354</td>\n",
              "    </tr>\n",
              "    <tr>\n",
              "      <th>8</th>\n",
              "      <td>Warehouse_block_C</td>\n",
              "      <td>0.012139</td>\n",
              "      <td>0.013181</td>\n",
              "      <td>0.000808</td>\n",
              "    </tr>\n",
              "    <tr>\n",
              "      <th>9</th>\n",
              "      <td>Warehouse_block_D</td>\n",
              "      <td>0.016192</td>\n",
              "      <td>0.012938</td>\n",
              "      <td>0.002545</td>\n",
              "    </tr>\n",
              "    <tr>\n",
              "      <th>10</th>\n",
              "      <td>Warehouse_block_F</td>\n",
              "      <td>0.016718</td>\n",
              "      <td>0.015717</td>\n",
              "      <td>0.000329</td>\n",
              "    </tr>\n",
              "    <tr>\n",
              "      <th>11</th>\n",
              "      <td>Mode_of_Shipment_Flight</td>\n",
              "      <td>0.016075</td>\n",
              "      <td>0.011418</td>\n",
              "      <td>0.000652</td>\n",
              "    </tr>\n",
              "    <tr>\n",
              "      <th>12</th>\n",
              "      <td>Mode_of_Shipment_Road</td>\n",
              "      <td>0.016994</td>\n",
              "      <td>0.010863</td>\n",
              "      <td>0.001963</td>\n",
              "    </tr>\n",
              "    <tr>\n",
              "      <th>13</th>\n",
              "      <td>Mode_of_Shipment_Ship</td>\n",
              "      <td>0.014035</td>\n",
              "      <td>0.014101</td>\n",
              "      <td>0.000163</td>\n",
              "    </tr>\n",
              "    <tr>\n",
              "      <th>14</th>\n",
              "      <td>Product_importance_high</td>\n",
              "      <td>0.005664</td>\n",
              "      <td>0.007037</td>\n",
              "      <td>0.001802</td>\n",
              "    </tr>\n",
              "    <tr>\n",
              "      <th>15</th>\n",
              "      <td>Product_importance_low</td>\n",
              "      <td>0.007702</td>\n",
              "      <td>0.013619</td>\n",
              "      <td>0.000241</td>\n",
              "    </tr>\n",
              "    <tr>\n",
              "      <th>16</th>\n",
              "      <td>Product_importance_medium</td>\n",
              "      <td>0.013802</td>\n",
              "      <td>0.013009</td>\n",
              "      <td>0.001021</td>\n",
              "    </tr>\n",
              "    <tr>\n",
              "      <th>17</th>\n",
              "      <td>Gender_M</td>\n",
              "      <td>0.015823</td>\n",
              "      <td>0.024494</td>\n",
              "      <td>0.000129</td>\n",
              "    </tr>\n",
              "  </tbody>\n",
              "</table>\n",
              "</div>"
            ],
            "text/plain": [
              "                      Feature  Decision Tree  Random Forest  Gradient Boosting\n",
              "0         Customer_care_calls       0.044594       0.057341           0.008675\n",
              "1             Customer_rating       0.045428       0.060723           0.004325\n",
              "2         Cost_of_the_Product       0.169064       0.168789           0.044713\n",
              "3             Prior_purchases       0.053691       0.063083           0.046151\n",
              "4            Discount_offered       0.295698       0.209775           0.740991\n",
              "5               Weight_in_gms       0.223145       0.278897           0.143182\n",
              "6           Warehouse_block_A       0.019837       0.012047           0.000956\n",
              "7           Warehouse_block_B       0.013398       0.012968           0.001354\n",
              "8           Warehouse_block_C       0.012139       0.013181           0.000808\n",
              "9           Warehouse_block_D       0.016192       0.012938           0.002545\n",
              "10          Warehouse_block_F       0.016718       0.015717           0.000329\n",
              "11    Mode_of_Shipment_Flight       0.016075       0.011418           0.000652\n",
              "12      Mode_of_Shipment_Road       0.016994       0.010863           0.001963\n",
              "13      Mode_of_Shipment_Ship       0.014035       0.014101           0.000163\n",
              "14    Product_importance_high       0.005664       0.007037           0.001802\n",
              "15     Product_importance_low       0.007702       0.013619           0.000241\n",
              "16  Product_importance_medium       0.013802       0.013009           0.001021\n",
              "17                   Gender_M       0.015823       0.024494           0.000129"
            ]
          },
          "execution_count": 46,
          "metadata": {},
          "output_type": "execute_result"
        }
      ],
      "source": [
        "importances_features = pd.DataFrame({\n",
        "    'Feature': columns,\n",
        "    'Decision Tree': dt_importance,\n",
        "    'Random Forest': rf_importance,\n",
        "    'Gradient Boosting': gb_importance\n",
        "})\n",
        "importances_features"
      ]
    }
  ],
  "metadata": {
    "colab": {
      "provenance": [],
      "gpuType": "T4"
    },
    "kernelspec": {
      "display_name": "Python 3",
      "name": "python3"
    },
    "language_info": {
      "codemirror_mode": {
        "name": "ipython",
        "version": 3
      },
      "file_extension": ".py",
      "mimetype": "text/x-python",
      "name": "python",
      "nbconvert_exporter": "python",
      "pygments_lexer": "ipython3",
      "version": "3.9.13"
    },
    "accelerator": "GPU"
  },
  "nbformat": 4,
  "nbformat_minor": 0
}